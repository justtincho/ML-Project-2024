{
 "cells": [
  {
   "cell_type": "code",
   "execution_count": null,
   "metadata": {},
   "outputs": [],
   "source": [
    "import pandas as pd\n",
    "from sklearn.model_selection import train_test_split, GridSearchCV\n",
    "from sklearn.linear_model import LogisticRegression\n",
    "from sklearn.svm import SVC\n",
    "from sklearn.naive_bayes import MultinomialNB\n",
    "from sklearn.ensemble import RandomForestClassifier, GradientBoostingClassifier\n",
    "from sklearn.metrics import classification_report, roc_auc_score\n",
    "\n",
    "# Load Data\n",
    "train_df = pd.read_csv('/mnt/data/train_tfidf_features.csv')\n",
    "test_df = pd.read_csv('/mnt/data/test_tfidf_features.csv')\n",
    "submission_df = pd.read_csv('/mnt/data/sample_submission.csv')\n",
    "\n",
    "# Extract features and labels\n",
    "X = train_df.drop('label', axis=1)\n",
    "y = train_df['label']\n",
    "\n",
    "# Split data\n",
    "X_train, X_val, y_train, y_val = train_test_split(X, y, test_size=0.2, random_state=42)\n",
    "\n",
    "# Initialize models\n",
    "models = {\n",
    "    'Logistic Regression': LogisticRegression(),\n",
    "    'SVM': SVC(probability=True),\n",
    "    'Naive Bayes': MultinomialNB(),\n",
    "    'Random Forest': RandomForestClassifier(),\n",
    "    'Gradient Boosting': GradientBoostingClassifier()\n",
    "}\n",
    "\n",
    "# Train and evaluate models\n",
    "for name, model in models.items():\n",
    "    model.fit(X_train, y_train)\n",
    "    y_pred = model.predict(X_val)\n",
    "    y_proba = model.predict_proba(X_val)[:, 1]\n",
    "    print(f\"{name} Performance:\")\n",
    "    print(classification_report(y_val, y_pred))\n",
    "    print(f\"ROC AUC: {roc_auc_score(y_val, y_proba)}\")\n",
    "    print(\"\\n\")\n",
    "\n",
    "# Choose the best model, train on full training data, and make predictions on test set\n",
    "best_model = LogisticRegression()  # Replace with the best model based on evaluation\n",
    "best_model.fit(X, y)\n",
    "test_predictions = best_model.predict(test_df)\n",
    "\n",
    "# Prepare submission\n",
    "submission_df['label'] = test_predictions\n",
    "submission_df.to_csv('submission.csv', index=False)\n"
   ]
  }
 ],
 "metadata": {
  "language_info": {
   "name": "python"
  }
 },
 "nbformat": 4,
 "nbformat_minor": 2
}
