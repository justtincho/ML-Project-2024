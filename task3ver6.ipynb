{
 "cells": [
  {
   "cell_type": "code",
   "execution_count": 3,
   "metadata": {},
   "outputs": [
    {
     "name": "stdout",
     "output_type": "stream",
     "text": [
      "Naive Bayes Performance:\n",
      "              precision    recall  f1-score   support\n",
      "\n",
      "           0       0.72      0.90      0.80      2153\n",
      "           1       0.71      0.41      0.52      1284\n",
      "\n",
      "    accuracy                           0.72      3437\n",
      "   macro avg       0.71      0.65      0.66      3437\n",
      "weighted avg       0.72      0.72      0.69      3437\n",
      "\n",
      "ROC AUC: 0.7567156166936522\n"
     ]
    }
   ],
   "source": [
    "# naive bayes method\n",
    "\n",
    "import pandas as pd\n",
    "from sklearn.model_selection import train_test_split\n",
    "from sklearn.preprocessing import StandardScaler\n",
    "from sklearn.naive_bayes import MultinomialNB\n",
    "from sklearn.metrics import classification_report, roc_auc_score\n",
    "\n",
    "# Load the data\n",
    "train_df = pd.read_csv('train_tfidf_features.csv')\n",
    "test_df = pd.read_csv('test_tfidf_features.csv')\n",
    "submission_df = pd.read_csv('sample_submission.csv')\n",
    "\n",
    "# Extract features and labels\n",
    "X = train_df.drop('label', axis=1)\n",
    "y = train_df['label']\n",
    "\n",
    "# Split data into training and validation sets\n",
    "X_train, X_val, y_train, y_val = train_test_split(X, y, test_size=0.2, random_state=42)\n",
    "\n",
    "# Initialize and train the Multinomial Naive Bayes model\n",
    "nb_model = MultinomialNB()\n",
    "nb_model.fit(X_train, y_train)\n",
    "\n",
    "# Predict and evaluate on the validation set\n",
    "y_pred_nb = nb_model.predict(X_val)\n",
    "y_proba_nb = nb_model.predict_proba(X_val)[:, 1]\n",
    "\n",
    "print(\"Naive Bayes Performance:\")\n",
    "print(classification_report(y_val, y_pred_nb))\n",
    "print(f\"ROC AUC: {roc_auc_score(y_val, y_proba_nb)}\")\n",
    "\n",
    "# Train on the full training data\n",
    "nb_model.fit(X, y)\n",
    "\n",
    "# Predict on the test set\n",
    "test_predictions = nb_model.predict(test_df)\n",
    "\n",
    "# Prepare submission file\n",
    "submission_df['label'] = test_predictions\n",
    "submission_df.to_csv('submission6.csv', index=False)\n"
   ]
  }
 ],
 "metadata": {
  "kernelspec": {
   "display_name": "Python 3",
   "language": "python",
   "name": "python3"
  },
  "language_info": {
   "codemirror_mode": {
    "name": "ipython",
    "version": 3
   },
   "file_extension": ".py",
   "mimetype": "text/x-python",
   "name": "python",
   "nbconvert_exporter": "python",
   "pygments_lexer": "ipython3",
   "version": "3.12.4"
  }
 },
 "nbformat": 4,
 "nbformat_minor": 2
}
