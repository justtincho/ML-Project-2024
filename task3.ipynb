{
 "cells": [
  {
   "cell_type": "code",
   "execution_count": 1,
   "metadata": {},
   "outputs": [
    {
     "name": "stdout",
     "output_type": "stream",
     "text": [
      "SVM Performance:\n",
      "              precision    recall  f1-score   support\n",
      "\n",
      "           0       0.70      0.90      0.79      2153\n",
      "           1       0.68      0.36      0.47      1284\n",
      "\n",
      "    accuracy                           0.70      3437\n",
      "   macro avg       0.69      0.63      0.63      3437\n",
      "weighted avg       0.69      0.70      0.67      3437\n",
      "\n",
      "ROC AUC: 0.7204158364840483\n"
     ]
    }
   ],
   "source": [
    "# SVM method\n",
    "import pandas as pd\n",
    "from sklearn.model_selection import train_test_split\n",
    "from sklearn.preprocessing import StandardScaler\n",
    "from sklearn.svm import SVC\n",
    "from sklearn.metrics import classification_report, roc_auc_score\n",
    "\n",
    "# Load Data\n",
    "train_df = pd.read_csv('train_tfidf_features.csv')\n",
    "test_df = pd.read_csv('test_tfidf_features.csv')\n",
    "submission_df = pd.read_csv('sample_submission.csv')\n",
    "\n",
    "# Extract features and labels\n",
    "X = train_df.drop('label', axis=1)\n",
    "y = train_df['label']\n",
    "\n",
    "# Split data into training and validation sets\n",
    "X_train, X_val, y_train, y_val = train_test_split(X, y, test_size=0.2, random_state=42)\n",
    "\n",
    "# Standardize the features\n",
    "scaler = StandardScaler()\n",
    "X_train_scaled = scaler.fit_transform(X_train)\n",
    "X_val_scaled = scaler.transform(X_val)\n",
    "test_df_scaled = scaler.transform(test_df)\n",
    "\n",
    "# Initialize and train the SVM model\n",
    "svm_model = SVC(probability=True)\n",
    "svm_model.fit(X_train_scaled, y_train)\n",
    "\n",
    "# Predict and evaluate on the validation set\n",
    "y_pred_svm = svm_model.predict(X_val_scaled)\n",
    "y_proba_svm = svm_model.predict_proba(X_val_scaled)[:, 1]\n",
    "\n",
    "print(\"SVM Performance:\")\n",
    "print(classification_report(y_val, y_pred_svm))\n",
    "print(f\"ROC AUC: {roc_auc_score(y_val, y_proba_svm)}\")\n",
    "\n",
    "# Train on the full training data\n",
    "svm_model.fit(scaler.transform(X), y)\n",
    "\n",
    "# Predict on the test set\n",
    "test_predictions = svm_model.predict(test_df_scaled)\n",
    "\n",
    "# Prepare submission file\n",
    "submission_df['label'] = test_predictions\n",
    "submission_df.to_csv('submission.csv', index=False)\n",
    "\n"
   ]
  }
 ],
 "metadata": {
  "kernelspec": {
   "display_name": "Python 3",
   "language": "python",
   "name": "python3"
  },
  "language_info": {
   "codemirror_mode": {
    "name": "ipython",
    "version": 3
   },
   "file_extension": ".py",
   "mimetype": "text/x-python",
   "name": "python",
   "nbconvert_exporter": "python",
   "pygments_lexer": "ipython3",
   "version": "3.12.4"
  }
 },
 "nbformat": 4,
 "nbformat_minor": 2
}
