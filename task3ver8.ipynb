{
 "cells": [
  {
   "cell_type": "code",
   "execution_count": 3,
   "metadata": {},
   "outputs": [
    {
     "name": "stdout",
     "output_type": "stream",
     "text": [
      "k-NN Performance:\n",
      "              precision    recall  f1-score   support\n",
      "\n",
      "           0       0.71      0.34      0.46      2153\n",
      "           1       0.41      0.77      0.53      1284\n",
      "\n",
      "    accuracy                           0.50      3437\n",
      "   macro avg       0.56      0.55      0.50      3437\n",
      "weighted avg       0.60      0.50      0.49      3437\n",
      "\n",
      "ROC AUC: 0.5801278155670635\n"
     ]
    },
    {
     "name": "stderr",
     "output_type": "stream",
     "text": [
      "c:\\ProgramData\\anaconda3\\Lib\\site-packages\\sklearn\\base.py:493: UserWarning: X does not have valid feature names, but KNeighborsClassifier was fitted with feature names\n",
      "  warnings.warn(\n"
     ]
    }
   ],
   "source": [
    "# k-NN implementation method\n",
    "import pandas as pd\n",
    "from sklearn.model_selection import train_test_split\n",
    "from sklearn.preprocessing import StandardScaler\n",
    "from sklearn.neighbors import KNeighborsClassifier\n",
    "from sklearn.metrics import classification_report, roc_auc_score\n",
    "\n",
    "# Load the data\n",
    "train_df = pd.read_csv('train_tfidf_features.csv')\n",
    "test_df = pd.read_csv('test_tfidf_features.csv')\n",
    "submission_df = pd.read_csv('sample_submission.csv')\n",
    "\n",
    "# Extract features and labels\n",
    "X = train_df.drop('label', axis=1)\n",
    "y = train_df['label']\n",
    "\n",
    "# Split data into training and validation sets\n",
    "X_train, X_val, y_train, y_val = train_test_split(X, y, test_size=0.2, random_state=42)\n",
    "\n",
    "# Standardize the features\n",
    "scaler = StandardScaler()\n",
    "X_train_scaled = scaler.fit_transform(X_train)\n",
    "X_val_scaled = scaler.transform(X_val)\n",
    "test_df_scaled = scaler.transform(test_df)\n",
    "\n",
    "# Initialize and train the k-NN model\n",
    "knn_model = KNeighborsClassifier(n_neighbors=5)\n",
    "knn_model.fit(X_train_scaled, y_train)\n",
    "\n",
    "# Predict and evaluate on the validation set\n",
    "y_pred_knn = knn_model.predict(X_val_scaled)\n",
    "y_proba_knn = knn_model.predict_proba(X_val_scaled)[:, 1]\n",
    "\n",
    "print(\"k-NN Performance:\")\n",
    "print(classification_report(y_val, y_pred_knn))\n",
    "print(f\"ROC AUC: {roc_auc_score(y_val, y_proba_knn)}\")\n",
    "\n",
    "# Train on the full training data\n",
    "knn_model.fit(X, y)\n",
    "\n",
    "# Predict on the test set\n",
    "test_predictions = knn_model.predict(test_df_scaled)\n",
    "\n",
    "# Prepare submission file\n",
    "submission_df['label'] = test_predictions\n",
    "submission_df.to_csv('submission8.csv', index=False)\n"
   ]
  }
 ],
 "metadata": {
  "kernelspec": {
   "display_name": "Python 3",
   "language": "python",
   "name": "python3"
  },
  "language_info": {
   "codemirror_mode": {
    "name": "ipython",
    "version": 3
   },
   "file_extension": ".py",
   "mimetype": "text/x-python",
   "name": "python",
   "nbconvert_exporter": "python",
   "pygments_lexer": "ipython3",
   "version": "3.12.4"
  }
 },
 "nbformat": 4,
 "nbformat_minor": 2
}
